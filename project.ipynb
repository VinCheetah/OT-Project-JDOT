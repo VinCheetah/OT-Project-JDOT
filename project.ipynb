{
 "cells": [
  {
   "cell_type": "code",
   "execution_count": 15,
   "metadata": {},
   "outputs": [],
   "source": [
    "import torch\n",
    "import torch.nn as nn\n",
    "import torch.optim as optim\n",
    "import torchvision\n",
    "import torchvision.transforms as transforms\n",
    "from torch.utils.data import DataLoader\n",
    "import matplotlib.pyplot as plt\n",
    "import jdot\n",
    "import numpy as np"
   ]
  },
  {
   "cell_type": "code",
   "execution_count": 16,
   "metadata": {},
   "outputs": [],
   "source": [
    "transform = transforms.Compose([\n",
    "\ttransforms.ToTensor(),\n",
    "\ttransforms.Normalize((0.1307,), (0.3081,))\n",
    "])"
   ]
  },
  {
   "cell_type": "code",
   "execution_count": 17,
   "metadata": {},
   "outputs": [],
   "source": [
    "train_dataset_source = torchvision.datasets.MNIST(root='./data', train=True, download=True, transform=transform)\n",
    "test_dataset_source = torchvision.datasets.MNIST(root='./data', train=False, download=True, transform=transform)\n",
    "\n",
    "target_dataset = torchvision.datasets.USPS(root='./data', download=True, transform=transform)"
   ]
  },
  {
   "cell_type": "code",
   "execution_count": 18,
   "metadata": {},
   "outputs": [],
   "source": [
    "X_train, y_train = next(iter(DataLoader(train_dataset_source, batch_size=len(train_dataset_source) // 10)))\n",
    "X_test, y_test = next(iter(DataLoader(test_dataset_source, batch_size=len(test_dataset_source) // 10)))\n",
    "X_target, y_target = next(iter(DataLoader(target_dataset, batch_size=len(target_dataset))))\n",
    "X_target = torch.nn.functional.pad(X_target, (6, 6, 6, 6), mode='constant', value=-0.4242)\n",
    "X_train = X_train.view(-1, 28*28)\n",
    "X_test = X_test.view(-1, 28*28)\n",
    "X_target = X_target.view(-1, 28*28)\n",
    "y_train = torch.nn.functional.one_hot(y_train, num_classes=10).float()\n",
    "y_test = torch.nn.functional.one_hot(y_test, num_classes=10).float()\n",
    "y_target = torch.nn.functional.one_hot(y_target, num_classes=10).float()"
   ]
  },
  {
   "cell_type": "code",
   "execution_count": 19,
   "metadata": {},
   "outputs": [
    {
     "name": "stdout",
     "output_type": "stream",
     "text": [
      "torch.Size([6000, 784]) torch.Size([6000, 10])\n",
      "torch.Size([1000, 784]) torch.Size([1000, 10])\n",
      "torch.Size([7291, 784]) torch.Size([7291, 10])\n"
     ]
    }
   ],
   "source": [
    "print(X_train.shape, y_train.shape)\n",
    "print(X_test.shape, y_test.shape)\n",
    "print(X_target.shape, y_target.shape)"
   ]
  },
  {
   "cell_type": "code",
   "execution_count": 20,
   "metadata": {},
   "outputs": [],
   "source": [
    "class Model(torch.nn.Module):\n",
    "\tdef __init__(self, n_epochs=100, device='mps'):\n",
    "\t\tsuper(Model, self).__init__()\n",
    "\t\tself.model = torch.nn.Sequential(\n",
    "\t\t\ttorch.nn.Linear(28 * 28, 128),\n",
    "\t\t\ttorch.nn.ReLU(),\n",
    "\t\t\ttorch.nn.Dropout(0.5),\n",
    "\t\t\ttorch.nn.Linear(128, 10),\n",
    "\t\t\ttorch.nn.Softmax(dim=1)\n",
    "\t\t).to(device)\n",
    "\t\tself.n_epochs = n_epochs\n",
    "\t\tself.device = device\n",
    "\t\tself.criterion = torch.nn.MSELoss()\n",
    "\t\tself.optimizer = torch.optim.Adam(self.model.parameters(), lr=0.001)\n",
    "\n",
    "\tdef fit(self, X, y):\n",
    "\t\t# fit the model\n",
    "\t\t# y = torch.nn.functional.one_hot(y, num_classes=10).float().to(self.device)\n",
    "\t\tfor epoch in range(self.n_epochs):\n",
    "\t\t\tself.model.train()\n",
    "\t\t\tX, y = X.to(self.device), y.to(self.device)\n",
    "\t\t\tself.optimizer.zero_grad()\n",
    "\t\t\toutput = self.model(X)\n",
    "\t\t\tloss = self.criterion(output, y)\n",
    "\t\t\tloss.backward()\n",
    "\t\t\tself.optimizer.step()\n",
    "\t\t\tif epoch % 10 == 0:\n",
    "\t\t\t\tprint(f'Epoch {epoch}/{self.n_epochs}, Loss: {loss.item()}')\n",
    "\t\tprint(f'Epoch {epoch + 1}/{self.n_epochs}, Loss: {loss.item()}')\n",
    "\n",
    "\t@torch.no_grad()\n",
    "\tdef predict(self, X):\n",
    "\t\t# predict the labels\n",
    "\t\tself.model.eval()\n",
    "\t\tX = X.to(self.device)\n",
    "\t\tpredicted = self.model(X)\n",
    "\t\t# print(output.shape)\n",
    "\t\t# _, predicted = torch.max(output, dim=1)\n",
    "\t\tpredicted = predicted.cpu().detach()\n",
    "\t\treturn predicted\n",
    "\n",
    "\n",
    "def make_model(n_epochs=100, device='mps'):\n",
    "\treturn Model(n_epochs=n_epochs, device=device)"
   ]
  },
  {
   "cell_type": "code",
   "execution_count": 21,
   "metadata": {},
   "outputs": [],
   "source": [
    "model = make_model()"
   ]
  },
  {
   "cell_type": "code",
   "execution_count": 22,
   "metadata": {},
   "outputs": [
    {
     "name": "stdout",
     "output_type": "stream",
     "text": [
      "torch.Size([6000, 784]) torch.Size([6000, 10])\n",
      "Epoch 0/100, Loss: 0.09113242477178574\n",
      "Epoch 10/100, Loss: 0.04473089426755905\n",
      "Epoch 20/100, Loss: 0.02574266865849495\n",
      "Epoch 30/100, Loss: 0.01927793025970459\n",
      "Epoch 40/100, Loss: 0.016251111403107643\n",
      "Epoch 50/100, Loss: 0.01392282359302044\n",
      "Epoch 60/100, Loss: 0.01271914504468441\n",
      "Epoch 70/100, Loss: 0.010977528057992458\n",
      "Epoch 80/100, Loss: 0.010337648913264275\n",
      "Epoch 90/100, Loss: 0.009373887442052364\n",
      "Epoch 100/100, Loss: 0.009149998426437378\n"
     ]
    }
   ],
   "source": [
    "print(X_train.shape, y_train.shape)\n",
    "model.fit(X_train, y_train)"
   ]
  },
  {
   "cell_type": "code",
   "execution_count": 23,
   "metadata": {},
   "outputs": [
    {
     "name": "stdout",
     "output_type": "stream",
     "text": [
      "Accuracy: 0.9100000262260437\n"
     ]
    }
   ],
   "source": [
    "y_pred = model.predict(X_test)\n",
    "print(f'Accuracy: {(torch.argmax(y_pred, axis=1) == torch.argmax(y_test, axis=1)).float().mean()}')"
   ]
  },
  {
   "cell_type": "code",
   "execution_count": 24,
   "metadata": {},
   "outputs": [
    {
     "name": "stdout",
     "output_type": "stream",
     "text": [
      "Accuracy: 0.6447675228118896\n"
     ]
    }
   ],
   "source": [
    "y_pred = model.predict(X_target)\n",
    "print(f'Accuracy: {(torch.argmax(y_pred, axis=1) == torch.argmax(y_target, axis=1)).float().mean()}')"
   ]
  },
  {
   "cell_type": "code",
   "execution_count": 28,
   "metadata": {},
   "outputs": [
    {
     "name": "stdout",
     "output_type": "stream",
     "text": [
      "Epoch 0/100, Loss: 0.0910920724272728\n",
      "Epoch 10/100, Loss: 0.04670117422938347\n",
      "Epoch 20/100, Loss: 0.02704324945807457\n",
      "Epoch 30/100, Loss: 0.020045023411512375\n",
      "Epoch 40/100, Loss: 0.01620771363377571\n",
      "Epoch 50/100, Loss: 0.014194965362548828\n",
      "Epoch 60/100, Loss: 0.012634809128940105\n",
      "Epoch 70/100, Loss: 0.011202187277376652\n",
      "Epoch 80/100, Loss: 0.010528859682381153\n",
      "Epoch 90/100, Loss: 0.009507548063993454\n",
      "Epoch 100/100, Loss: 0.009115871042013168\n"
     ]
    }
   ],
   "source": [
    "model = make_model()\n",
    "model.fit(X_train, y_train)\n",
    "y_pred = model.predict(X_target)"
   ]
  },
  {
   "cell_type": "code",
   "execution_count": 31,
   "metadata": {},
   "outputs": [
    {
     "name": "stdout",
     "output_type": "stream",
     "text": [
      "4.0141113429840795e-23\n"
     ]
    }
   ],
   "source": [
    "print(np.mean(y_pred.numpy() - y_target.numpy())**2)"
   ]
  },
  {
   "cell_type": "code",
   "execution_count": 25,
   "metadata": {},
   "outputs": [
    {
     "name": "stdout",
     "output_type": "stream",
     "text": [
      "Epoch 0/100, Loss: 0.09204807877540588\n",
      "Epoch 10/100, Loss: 0.043571509420871735\n",
      "Epoch 20/100, Loss: 0.025820491835474968\n",
      "Epoch 30/100, Loss: 0.019205406308174133\n",
      "Epoch 40/100, Loss: 0.016102982684969902\n",
      "Epoch 50/100, Loss: 0.013771014288067818\n",
      "Epoch 60/100, Loss: 0.012746588326990604\n",
      "Epoch 70/100, Loss: 0.011232252232730389\n",
      "Epoch 80/100, Loss: 0.010442824102938175\n",
      "Epoch 90/100, Loss: 0.009645842015743256\n",
      "Epoch 100/100, Loss: 0.008937009610235691\n"
     ]
    },
    {
     "name": "stderr",
     "output_type": "stream",
     "text": [
      "/Users/fredericbecerril/miniforge3/envs/pulse/lib/python3.8/site-packages/ot/lp/__init__.py:388: UserWarning: numItermax reached before optimality. Try to increase numItermax.\n",
      "  result_code_string = check_result(result_code)\n"
     ]
    },
    {
     "name": "stdout",
     "output_type": "stream",
     "text": [
      "torch.Size([7291, 10])\n",
      "Epoch 0/100, Loss: 0.08941204100847244\n",
      "Epoch 10/100, Loss: 0.0647502988576889\n",
      "Epoch 20/100, Loss: 0.048449233174324036\n",
      "Epoch 30/100, Loss: 0.038064803928136826\n",
      "Epoch 40/100, Loss: 0.032277822494506836\n",
      "Epoch 50/100, Loss: 0.02861899323761463\n",
      "Epoch 60/100, Loss: 0.025833413004875183\n",
      "Epoch 70/100, Loss: 0.024242978543043137\n",
      "Epoch 80/100, Loss: 0.022693434730172157\n",
      "Epoch 90/100, Loss: 0.021499918773770332\n",
      "Epoch 100/100, Loss: 0.021160224452614784\n",
      "torch.Size([7291, 10])\n",
      "Epoch 0/100, Loss: 0.08983055502176285\n",
      "Epoch 10/100, Loss: 0.0603010393679142\n",
      "Epoch 20/100, Loss: 0.042515452951192856\n",
      "Epoch 30/100, Loss: 0.032213352620601654\n",
      "Epoch 40/100, Loss: 0.026288466528058052\n",
      "Epoch 50/100, Loss: 0.022990217432379723\n",
      "Epoch 60/100, Loss: 0.020464060828089714\n",
      "Epoch 70/100, Loss: 0.01819414086639881\n",
      "Epoch 80/100, Loss: 0.017262177541851997\n",
      "Epoch 90/100, Loss: 0.01607838273048401\n",
      "Epoch 100/100, Loss: 0.015088362619280815\n",
      "torch.Size([7291, 10])\n",
      "Epoch 0/100, Loss: 0.09082012623548508\n",
      "Epoch 10/100, Loss: 0.06381271034479141\n",
      "Epoch 20/100, Loss: 0.04388619214296341\n",
      "Epoch 30/100, Loss: 0.03280956670641899\n",
      "Epoch 40/100, Loss: 0.025929279625415802\n",
      "Epoch 50/100, Loss: 0.02145230397582054\n",
      "Epoch 60/100, Loss: 0.01892494596540928\n",
      "Epoch 70/100, Loss: 0.017230438068509102\n",
      "Epoch 80/100, Loss: 0.015783127397298813\n",
      "Epoch 90/100, Loss: 0.014474411495029926\n",
      "Epoch 100/100, Loss: 0.013664978556334972\n",
      "torch.Size([7291, 10])\n",
      "Epoch 0/100, Loss: 0.09027345478534698\n",
      "Epoch 10/100, Loss: 0.06382093578577042\n",
      "Epoch 20/100, Loss: 0.04557837173342705\n",
      "Epoch 30/100, Loss: 0.03340800851583481\n",
      "Epoch 40/100, Loss: 0.026584770530462265\n",
      "Epoch 50/100, Loss: 0.02224484644830227\n",
      "Epoch 60/100, Loss: 0.019789712503552437\n",
      "Epoch 70/100, Loss: 0.01742861047387123\n",
      "Epoch 80/100, Loss: 0.01537418831139803\n",
      "Epoch 90/100, Loss: 0.014592335559427738\n",
      "Epoch 100/100, Loss: 0.01390126533806324\n",
      "torch.Size([7291, 10])\n",
      "Epoch 0/100, Loss: 0.09073677659034729\n",
      "Epoch 10/100, Loss: 0.062288813292980194\n",
      "Epoch 20/100, Loss: 0.0428369976580143\n",
      "Epoch 30/100, Loss: 0.031077323481440544\n",
      "Epoch 40/100, Loss: 0.02463999018073082\n",
      "Epoch 50/100, Loss: 0.020425992086529732\n",
      "Epoch 60/100, Loss: 0.017929334193468094\n",
      "Epoch 70/100, Loss: 0.01575680449604988\n",
      "Epoch 80/100, Loss: 0.014520838856697083\n",
      "Epoch 90/100, Loss: 0.013339994475245476\n",
      "Epoch 100/100, Loss: 0.012360582128167152\n",
      "torch.Size([7291, 10])\n",
      "Epoch 0/100, Loss: 0.09057927131652832\n",
      "Epoch 10/100, Loss: 0.06276869773864746\n",
      "Epoch 20/100, Loss: 0.04363137483596802\n",
      "Epoch 30/100, Loss: 0.03152133524417877\n",
      "Epoch 40/100, Loss: 0.024022625759243965\n",
      "Epoch 50/100, Loss: 0.018964441493153572\n",
      "Epoch 60/100, Loss: 0.01687725819647312\n",
      "Epoch 70/100, Loss: 0.014846354722976685\n",
      "Epoch 80/100, Loss: 0.013443607836961746\n",
      "Epoch 90/100, Loss: 0.012646631337702274\n",
      "Epoch 100/100, Loss: 0.011584976688027382\n",
      "torch.Size([7291, 10])\n",
      "Epoch 0/100, Loss: 0.09017454087734222\n",
      "Epoch 10/100, Loss: 0.05978450924158096\n",
      "Epoch 20/100, Loss: 0.040031906217336655\n",
      "Epoch 30/100, Loss: 0.028033066540956497\n",
      "Epoch 40/100, Loss: 0.021452646702528\n",
      "Epoch 50/100, Loss: 0.017641106620430946\n",
      "Epoch 60/100, Loss: 0.01565171778202057\n",
      "Epoch 70/100, Loss: 0.013349768705666065\n",
      "Epoch 80/100, Loss: 0.012229140847921371\n",
      "Epoch 90/100, Loss: 0.011340278200805187\n",
      "Epoch 100/100, Loss: 0.010678894817829132\n",
      "torch.Size([7291, 10])\n",
      "Epoch 0/100, Loss: 0.09036026149988174\n",
      "Epoch 10/100, Loss: 0.060427289456129074\n",
      "Epoch 20/100, Loss: 0.03947659209370613\n",
      "Epoch 30/100, Loss: 0.028167642652988434\n",
      "Epoch 40/100, Loss: 0.021256063133478165\n",
      "Epoch 50/100, Loss: 0.0176716111600399\n",
      "Epoch 60/100, Loss: 0.015105105005204678\n",
      "Epoch 70/100, Loss: 0.013591641560196877\n",
      "Epoch 80/100, Loss: 0.012418231926858425\n",
      "Epoch 90/100, Loss: 0.01134097296744585\n",
      "Epoch 100/100, Loss: 0.011367620900273323\n",
      "torch.Size([7291, 10])\n",
      "Epoch 0/100, Loss: 0.08997665345668793\n",
      "Epoch 10/100, Loss: 0.06121499836444855\n",
      "Epoch 20/100, Loss: 0.042478322982788086\n",
      "Epoch 30/100, Loss: 0.030950305983424187\n",
      "Epoch 40/100, Loss: 0.023272689431905746\n",
      "Epoch 50/100, Loss: 0.01877450942993164\n",
      "Epoch 60/100, Loss: 0.01622416451573372\n",
      "Epoch 70/100, Loss: 0.014635853469371796\n",
      "Epoch 80/100, Loss: 0.01300977636128664\n",
      "Epoch 90/100, Loss: 0.01195838488638401\n",
      "Epoch 100/100, Loss: 0.011231476441025734\n",
      "torch.Size([7291, 10])\n",
      "Epoch 0/100, Loss: 0.09043847769498825\n",
      "Epoch 10/100, Loss: 0.05723965913057327\n",
      "Epoch 20/100, Loss: 0.03658400475978851\n",
      "Epoch 30/100, Loss: 0.02557455562055111\n",
      "Epoch 40/100, Loss: 0.019687997177243233\n",
      "Epoch 50/100, Loss: 0.01683042384684086\n",
      "Epoch 60/100, Loss: 0.014420607127249241\n",
      "Epoch 70/100, Loss: 0.012645983137190342\n",
      "Epoch 80/100, Loss: 0.011551875621080399\n",
      "Epoch 90/100, Loss: 0.010625925846397877\n",
      "Epoch 100/100, Loss: 0.009776497259736061\n"
     ]
    }
   ],
   "source": [
    "model, results = jdot.jdot_nn_l2(make_model, X_train, y_train, X_target, y_target, n_epochs=100)"
   ]
  },
  {
   "cell_type": "code",
   "execution_count": 14,
   "metadata": {},
   "outputs": [
    {
     "name": "stdout",
     "output_type": "stream",
     "text": [
      "Accuracy: 0.5054176449775696\n"
     ]
    }
   ],
   "source": [
    "y_pred = model.predict(X_target)\n",
    "print(f'Accuracy: {(torch.argmax(y_pred, axis=1) == torch.argmax(y_target, axis=1)).float().mean()}')"
   ]
  },
  {
   "cell_type": "code",
   "execution_count": null,
   "metadata": {},
   "outputs": [],
   "source": []
  }
 ],
 "metadata": {
  "kernelspec": {
   "display_name": "pulse",
   "language": "python",
   "name": "python3"
  },
  "language_info": {
   "codemirror_mode": {
    "name": "ipython",
    "version": 3
   },
   "file_extension": ".py",
   "mimetype": "text/x-python",
   "name": "python",
   "nbconvert_exporter": "python",
   "pygments_lexer": "ipython3",
   "version": "3.8.18"
  }
 },
 "nbformat": 4,
 "nbformat_minor": 2
}
